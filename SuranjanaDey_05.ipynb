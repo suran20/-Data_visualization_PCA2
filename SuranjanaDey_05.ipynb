{
  "nbformat": 4,
  "nbformat_minor": 0,
  "metadata": {
    "colab": {
      "provenance": [],
      "include_colab_link": true
    },
    "kernelspec": {
      "name": "python3",
      "display_name": "Python 3"
    },
    "language_info": {
      "name": "python"
    }
  },
  "cells": [
    {
      "cell_type": "markdown",
      "metadata": {
        "id": "view-in-github",
        "colab_type": "text"
      },
      "source": [
        "<a href=\"https://colab.research.google.com/github/suran20/-Data_visualization_PCA2/blob/main/SuranjanaDey_05.ipynb\" target=\"_parent\"><img src=\"https://colab.research.google.com/assets/colab-badge.svg\" alt=\"Open In Colab\"/></a>"
      ]
    },
    {
      "cell_type": "markdown",
      "source": [
        "1. CREATING A LIST AND PERFORMING THE FOLLOWING"
      ],
      "metadata": {
        "id": "NCRPZdL4nxNz"
      }
    },
    {
      "cell_type": "code",
      "execution_count": null,
      "metadata": {
        "colab": {
          "base_uri": "https://localhost:8080/"
        },
        "id": "toTTAqe2Nz_e",
        "outputId": "9aafa826-4261-4add-c73d-831929e61110"
      },
      "outputs": [
        {
          "output_type": "stream",
          "name": "stdout",
          "text": [
            "[12, 40, 35, 88, 75, 15]\n"
          ]
        }
      ],
      "source": [
        "# a)insert()\n",
        "\n",
        "l=[12,40,88,75,15]\n",
        "l.insert(2,35)\n",
        "print(l)"
      ]
    },
    {
      "cell_type": "code",
      "source": [
        "# b)remove()\n",
        "\n",
        "l.remove(75)\n",
        "print(l)"
      ],
      "metadata": {
        "colab": {
          "base_uri": "https://localhost:8080/"
        },
        "id": "CAZQKid5P9wh",
        "outputId": "677558ad-5b17-41f7-b12f-2f2ca8b7174a"
      },
      "execution_count": null,
      "outputs": [
        {
          "output_type": "stream",
          "name": "stdout",
          "text": [
            "[12, 40, 35, 88, 15]\n"
          ]
        }
      ]
    },
    {
      "cell_type": "code",
      "source": [
        "# c)append\n",
        "\n",
        "l.append(67)\n",
        "print(l)"
      ],
      "metadata": {
        "colab": {
          "base_uri": "https://localhost:8080/"
        },
        "id": "1bRSR8S2QGuv",
        "outputId": "56679baa-15c4-430a-8f19-3a7b9866ae9f"
      },
      "execution_count": null,
      "outputs": [
        {
          "output_type": "stream",
          "name": "stdout",
          "text": [
            "[12, 40, 35, 88, 15, 67]\n"
          ]
        }
      ]
    },
    {
      "cell_type": "code",
      "source": [
        "# d)length\n",
        "\n",
        "len(l)"
      ],
      "metadata": {
        "colab": {
          "base_uri": "https://localhost:8080/"
        },
        "id": "Bkx96YUWQ2Ly",
        "outputId": "84cda9f8-5301-4160-e797-ae22c4fc386a"
      },
      "execution_count": null,
      "outputs": [
        {
          "output_type": "execute_result",
          "data": {
            "text/plain": [
              "0"
            ]
          },
          "metadata": {},
          "execution_count": 7
        }
      ]
    },
    {
      "cell_type": "code",
      "source": [
        "# e)pop\n",
        "\n",
        "a=l.pop(1)\n",
        "print(a)"
      ],
      "metadata": {
        "colab": {
          "base_uri": "https://localhost:8080/"
        },
        "id": "LpDypYZnRFUj",
        "outputId": "14202b98-7863-4eb5-c8d8-2ea6a0deb337"
      },
      "execution_count": null,
      "outputs": [
        {
          "output_type": "stream",
          "name": "stdout",
          "text": [
            "40\n"
          ]
        }
      ]
    },
    {
      "cell_type": "code",
      "source": [
        "# f)clear\n",
        "\n",
        "l.clear()\n",
        "print(l)"
      ],
      "metadata": {
        "colab": {
          "base_uri": "https://localhost:8080/"
        },
        "id": "Jwxd0qGhRgvF",
        "outputId": "1d02149c-ecf3-44d5-8d3a-f1a40a08f94a"
      },
      "execution_count": null,
      "outputs": [
        {
          "output_type": "stream",
          "name": "stdout",
          "text": [
            "[]\n"
          ]
        }
      ]
    },
    {
      "cell_type": "markdown",
      "source": [
        "2. ENTERING THE MARKS OF 5 SUBJECTS AND DISPLAYING THE GRADE"
      ],
      "metadata": {
        "id": "WCAjRiXzofE8"
      }
    },
    {
      "cell_type": "code",
      "source": [
        "marks1 = 67\n",
        "marks2 = 78\n",
        "marks3 = 92\n",
        "marks4 = 67\n",
        "marks5 = 83"
      ],
      "metadata": {
        "id": "AskjHnUd4ZHd"
      },
      "execution_count": null,
      "outputs": []
    },
    {
      "cell_type": "code",
      "source": [
        "sum_marks=marks1+marks2+marks3+marks4+marks5\n",
        "avgmark=sum_marks/5"
      ],
      "metadata": {
        "id": "K3xSxOUPTo2D"
      },
      "execution_count": null,
      "outputs": []
    },
    {
      "cell_type": "code",
      "source": [
        "if (avgmark>=90):\n",
        " print(\"Average of 5 marks=\",avg,\"Grade=A\")\n",
        "elif(avgmark>=80 and avgmark<90):\n",
        " print(\"Average of 5 marks=\",avg,\"Grade=B\")\n",
        "elif(avgmark>=70 and avgmark<80):\n",
        " print(\"Average of 5 marks=\",avg,\"Grade=C\")\n",
        "elif(avgmark>=60 and avgmark<70):\n",
        " print(\"Average of 5 marks=\",avg,\"Grade=D\")\n",
        "elif(avgmark>=50 and avgmark<60):\n",
        " print(\"Average of 5 marks=\",avg,\"Grade=E\")"
      ],
      "metadata": {
        "colab": {
          "base_uri": "https://localhost:8080/"
        },
        "id": "wigIAFPMUIJ7",
        "outputId": "2eec86f6-599e-40b2-ac0d-5c3e2de45526"
      },
      "execution_count": null,
      "outputs": [
        {
          "output_type": "stream",
          "name": "stdout",
          "text": [
            "Average of 5 marks= 77.4 Grade=C\n"
          ]
        }
      ]
    },
    {
      "cell_type": "markdown",
      "source": [
        "3. REVERSING A GIVEN NUMBER\n"
      ],
      "metadata": {
        "id": "yTIpRfLVoqTo"
      }
    },
    {
      "cell_type": "code",
      "source": [
        "num=6523\n",
        "rev=0\n",
        "while num!=0:\n",
        "  digit=num%10\n",
        "  rev=rev*10+digit\n",
        "  num=num//10\n",
        "\n",
        "print (\"Reversed Number:\", rev)"
      ],
      "metadata": {
        "colab": {
          "base_uri": "https://localhost:8080/"
        },
        "id": "QBlrElW3VVa_",
        "outputId": "13e7647f-d485-4ec2-e75a-911ccb34202f"
      },
      "execution_count": null,
      "outputs": [
        {
          "output_type": "stream",
          "name": "stdout",
          "text": [
            "Reversed Number: 3256\n"
          ]
        }
      ]
    },
    {
      "cell_type": "markdown",
      "source": [
        "4. READING A NUMBER AND COMPUTING"
      ],
      "metadata": {
        "id": "0nUSgBBsoxpn"
      }
    },
    {
      "cell_type": "code",
      "source": [
        "n=int(input(\"Enter a value for n:\"))\n",
        "m=int(input(\"Enter a value for m:\"))\n",
        "temp=n\n",
        "sum=0\n",
        "for i in range (m):\n",
        "  sum+=temp\n",
        "  temp=temp*10+n\n",
        "print(sum)"
      ],
      "metadata": {
        "colab": {
          "base_uri": "https://localhost:8080/"
        },
        "id": "9H9tdRAnXnMo",
        "outputId": "d6ce1915-55a8-4e6f-9ea9-8ecbbfa5babe"
      },
      "execution_count": null,
      "outputs": [
        {
          "output_type": "stream",
          "name": "stdout",
          "text": [
            "Enter a value for n:5\n",
            "Enter a value for m:5\n",
            "61725\n"
          ]
        }
      ]
    },
    {
      "cell_type": "markdown",
      "source": [
        "5. PRINTING DATE TIME FOR TODAY AND NOW"
      ],
      "metadata": {
        "id": "wZ_ECT7Io5fi"
      }
    },
    {
      "cell_type": "code",
      "source": [
        "import datetime\n",
        "now=datetime.datetime.now()\n",
        "print(\"Current date and time: \")\n",
        "print(str(now))"
      ],
      "metadata": {
        "colab": {
          "base_uri": "https://localhost:8080/"
        },
        "id": "XPLR4bgwd35O",
        "outputId": "24e65ac6-14cb-4ec7-a845-9ff927ea81e2"
      },
      "execution_count": null,
      "outputs": [
        {
          "output_type": "stream",
          "name": "stdout",
          "text": [
            "Current date and time: \n",
            "2022-12-15 15:51:30.357125\n"
          ]
        }
      ]
    },
    {
      "cell_type": "markdown",
      "source": [
        "6. CREATING NUMPY MODULE AND PERFORMING OPERATIONS"
      ],
      "metadata": {
        "id": "fKPCfLpGpQWi"
      }
    },
    {
      "cell_type": "code",
      "source": [
        "import numpy as np\n",
        "arr = np.array([[1,2,3,4,5],[4,6,8,9,10]])\n",
        "print(type(arr))"
      ],
      "metadata": {
        "colab": {
          "base_uri": "https://localhost:8080/"
        },
        "id": "qOHZUZK5ix7a",
        "outputId": "c654d94d-615b-4236-ecca-8d4bfbf77458"
      },
      "execution_count": null,
      "outputs": [
        {
          "output_type": "stream",
          "name": "stdout",
          "text": [
            "<class 'numpy.ndarray'>\n"
          ]
        }
      ]
    },
    {
      "cell_type": "code",
      "source": [
        "print(\"No. of dimensions : \", arr.ndim)"
      ],
      "metadata": {
        "colab": {
          "base_uri": "https://localhost:8080/"
        },
        "id": "V4odVxhUjIN-",
        "outputId": "23dbfc86-5e23-4cae-f6fb-58a8f6cb2cdb"
      },
      "execution_count": null,
      "outputs": [
        {
          "output_type": "stream",
          "name": "stdout",
          "text": [
            "No. of dimensions :  2\n"
          ]
        }
      ]
    },
    {
      "cell_type": "code",
      "source": [
        "print(arr.shape)"
      ],
      "metadata": {
        "colab": {
          "base_uri": "https://localhost:8080/"
        },
        "id": "11MTXsLpjKhH",
        "outputId": "c440df6f-1f48-437c-e2ed-77ed33857638"
      },
      "execution_count": null,
      "outputs": [
        {
          "output_type": "stream",
          "name": "stdout",
          "text": [
            "(2, 5)\n"
          ]
        }
      ]
    },
    {
      "cell_type": "code",
      "source": [
        "# d) Type of elements in array\n",
        "#0-D Array\n",
        "import numpy as np\n",
        "arr = np.array(62)\n",
        "print(arr)"
      ],
      "metadata": {
        "colab": {
          "base_uri": "https://localhost:8080/"
        },
        "id": "AWO9UDxqjPL7",
        "outputId": "9a479c72-ea3d-424e-d337-fe5ee5ce0b32"
      },
      "execution_count": null,
      "outputs": [
        {
          "output_type": "stream",
          "name": "stdout",
          "text": [
            "62\n"
          ]
        }
      ]
    },
    {
      "cell_type": "code",
      "source": [
        "#1-D Array\n",
        "import numpy as np\n",
        "arr = np.array([1, 2, 3, 4, 5])\n",
        "print(arr)"
      ],
      "metadata": {
        "colab": {
          "base_uri": "https://localhost:8080/"
        },
        "id": "-3RRYUrilafZ",
        "outputId": "b96a8af6-4fb4-4f26-ae8e-5c55410131f5"
      },
      "execution_count": null,
      "outputs": [
        {
          "output_type": "stream",
          "name": "stdout",
          "text": [
            "[1 2 3 4 5]\n"
          ]
        }
      ]
    },
    {
      "cell_type": "code",
      "source": [
        "#2-D Array\n",
        "import numpy as np\n",
        "arr = np.array([[1, 2, 3], [4, 5, 6]])\n",
        "print(arr)"
      ],
      "metadata": {
        "colab": {
          "base_uri": "https://localhost:8080/"
        },
        "id": "wiNoc50eliSE",
        "outputId": "2ca0c662-0797-4c6b-9df3-3e3b9db37969"
      },
      "execution_count": null,
      "outputs": [
        {
          "output_type": "stream",
          "name": "stdout",
          "text": [
            "[[1 2 3]\n",
            " [4 5 6]]\n"
          ]
        }
      ]
    },
    {
      "cell_type": "code",
      "source": [
        "#3-D Array\n",
        "import numpy as np\n",
        "arr = np.array([[[1, 2, 3], [4, 5, 6]], [[1, 2, 3], [4, 5, 6]]])\n",
        "print(arr)"
      ],
      "metadata": {
        "colab": {
          "base_uri": "https://localhost:8080/"
        },
        "id": "4NK43fO0lofB",
        "outputId": "3365c701-f5c9-4e83-a38d-2ac174cc17ce"
      },
      "execution_count": null,
      "outputs": [
        {
          "output_type": "stream",
          "name": "stdout",
          "text": [
            "[[[1 2 3]\n",
            "  [4 5 6]]\n",
            "\n",
            " [[1 2 3]\n",
            "  [4 5 6]]]\n"
          ]
        }
      ]
    }
  ]
}